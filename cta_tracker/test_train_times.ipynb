{
 "cells": [
  {
   "cell_type": "code",
   "execution_count": 4,
   "id": "8fe1dfac",
   "metadata": {},
   "outputs": [
    {
     "name": "stdout",
     "output_type": "stream",
     "text": [
      "[{'route': 'Brn', 'destination': 'Kimball', 'arrival_time': '2025-07-28T21:54:15'}, {'route': 'Brn', 'destination': 'Kimball', 'arrival_time': '2025-07-28T21:58:36'}, {'route': 'Brn', 'destination': 'Loop', 'arrival_time': '2025-07-28T22:02:33'}, {'route': 'Brn', 'destination': 'Loop', 'arrival_time': '2025-07-28T22:09:34'}, {'route': 'Brn', 'destination': 'Kimball', 'arrival_time': '2025-07-28T22:09:56'}, {'route': 'Brn', 'destination': 'Kimball', 'arrival_time': '2025-07-28T22:19:33'}, {'route': 'Brn', 'destination': 'Loop', 'arrival_time': '2025-07-28T22:19:40'}, {'route': 'Brn', 'destination': 'Kimball', 'arrival_time': '2025-07-28T22:27:34'}, {'route': 'Brn', 'destination': 'Kimball', 'arrival_time': '2025-07-28T22:37:40'}]\n"
     ]
    }
   ],
   "source": [
    "import os\n",
    "import requests\n",
    "\n",
    "CTA_API_KEY = os.getenv(\"CTA_API_KEY\")\n",
    "STOP_ID = os.getenv(\"STOP_ID\")\n",
    "\n",
    "def get_cta_train_times(api_key, stop_id):\n",
    "    url = \"http://lapi.transitchicago.com/api/1.0/ttarrivals.aspx\"\n",
    "    params = {\n",
    "        \"key\": api_key,\n",
    "        \"mapid\": stop_id,\n",
    "        \"outputType\": \"JSON\"\n",
    "    }\n",
    "    response = requests.get(url, params=params)\n",
    "    response.raise_for_status()\n",
    "    data = response.json()\n",
    "    arrivals = data.get(\"ctatt\", {}).get(\"eta\", [])\n",
    "    times = []\n",
    "    for arrival in arrivals:\n",
    "        route = arrival.get(\"rt\")\n",
    "        dest = arrival.get(\"destNm\")\n",
    "        arrival_time = arrival.get(\"arrT\")\n",
    "        times.append({\"route\": route, \"destination\": dest, \"arrival_time\": arrival_time})\n",
    "    return times\n",
    "\n",
    "train_times = get_cta_train_times(CTA_API_KEY, STOP_ID)\n",
    "print(train_times)"
   ]
  },
  {
   "cell_type": "code",
   "execution_count": null,
   "id": "a2378b54",
   "metadata": {},
   "outputs": [],
   "source": [
    "#python3 -m http.server 8000 --directory www\n",
    "\n",
    "#while true; do python3 fetch_cta.py; sleep 2; done"
   ]
  }
 ],
 "metadata": {
  "kernelspec": {
   "display_name": "Python 3",
   "language": "python",
   "name": "python3"
  },
  "language_info": {
   "codemirror_mode": {
    "name": "ipython",
    "version": 3
   },
   "file_extension": ".py",
   "mimetype": "text/x-python",
   "name": "python",
   "nbconvert_exporter": "python",
   "pygments_lexer": "ipython3",
   "version": "3.12.1"
  }
 },
 "nbformat": 4,
 "nbformat_minor": 5
}
